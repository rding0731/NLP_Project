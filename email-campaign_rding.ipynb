{
 "cells": [
  {
   "cell_type": "code",
   "execution_count": 2,
   "metadata": {},
   "outputs": [],
   "source": [
    "import pandas as pd\n",
    "import numpy as np\n",
    "import matplotlib.pyplot as plt\n",
    "import seaborn as sns"
   ]
  },
  {
   "cell_type": "markdown",
   "metadata": {},
   "source": [
    "dataset=https://www.kaggle.com/loveall/email-campaign-management-for-sme/data"
   ]
  },
  {
   "cell_type": "code",
   "execution_count": 3,
   "metadata": {},
   "outputs": [],
   "source": [
    "file_dir='dataset/'\n",
    "train_data=pd.read_csv(file_dir+'Train_psolI3n.csv')"
   ]
  },
  {
   "cell_type": "code",
   "execution_count": 4,
   "metadata": {},
   "outputs": [
    {
     "name": "stdout",
     "output_type": "stream",
     "text": [
      "Email_Type {1, 2}\n",
      "Email_Source_Type {1, 2}\n",
      "Customer_Location {nan, 'D', 'A', 'C', 'G', 'B', 'F', 'E'}\n",
      "Email_Campaign_Type {1, 2, 3}\n",
      "Time_Email_sent_Category {1, 2, 3}\n",
      "Email_Status {0, 1, 2}\n"
     ]
    }
   ],
   "source": [
    "categories=['Email_Type', 'Email_Source_Type', 'Customer_Location', 'Email_Campaign_Type','Time_Email_sent_Category']\n",
    "for x in categories:\n",
    "    print(x,set(train_data[x]))\n",
    "    \n",
    "print(\"Email_Status\", set(train_data[\"Email_Status\"]))"
   ]
  },
  {
   "cell_type": "markdown",
   "metadata": {},
   "source": [
    "# hue='Email_Type'"
   ]
  },
  {
   "cell_type": "code",
   "execution_count": null,
   "metadata": {},
   "outputs": [],
   "source": [
    "yy='Subject_Hotness_Score'\n",
    "xx='Email_Source_Type'\n",
    "hues='Email_Type'\n",
    "sns.violinplot(x=xx, y=yy, hue=hues, data=train_data, split=True,\n",
    "               inner=\"quart\", palette={1: \"b\", 2: \"y\"})\n",
    "sns.despine(left=True)\n",
    "plt.show()"
   ]
  },
  {
   "cell_type": "code",
   "execution_count": null,
   "metadata": {},
   "outputs": [],
   "source": [
    "yy='Total_Past_Communications'\n",
    "xx='Email_Source_Type'\n",
    "hues='Email_Type'\n",
    "sns.violinplot(x=xx, y=yy, hue=hues, data=train_data, split=True,\n",
    "               inner=\"quart\", palette={1: \"b\", 2: \"y\"})\n",
    "sns.despine(left=True)\n",
    "plt.show()"
   ]
  },
  {
   "cell_type": "code",
   "execution_count": null,
   "metadata": {},
   "outputs": [],
   "source": [
    "yy='Word_Count'\n",
    "xx='Email_Source_Type'\n",
    "hues='Email_Type'\n",
    "sns.violinplot(x=xx, y=yy, hue=hues, data=train_data, split=True,\n",
    "               inner=\"quart\", palette={1: \"b\", 2: \"y\"})\n",
    "sns.despine(left=True)\n",
    "plt.show()"
   ]
  },
  {
   "cell_type": "code",
   "execution_count": null,
   "metadata": {},
   "outputs": [],
   "source": [
    "yy='Total_Images'\n",
    "# yy='Word_Count'\n",
    "xx='Email_Source_Type'\n",
    "hues='Email_Type'\n",
    "sns.violinplot(x=xx, y=yy, hue=hues, data=train_data, split=True,\n",
    "               inner=\"quart\", palette={1: \"b\", 2: \"y\"})\n",
    "sns.despine(left=True)\n",
    "plt.show()"
   ]
  },
  {
   "cell_type": "markdown",
   "metadata": {},
   "source": [
    "# email status"
   ]
  },
  {
   "cell_type": "code",
   "execution_count": null,
   "metadata": {},
   "outputs": [],
   "source": [
    "yy='Subject_Hotness_Score'\n",
    "hues='Email_Type'\n",
    "xx='Email_Status'\n",
    "sns.violinplot(x=xx, y=yy, hue=hues, data=train_data, split=True,\n",
    "               inner=\"quart\", palette={1: \"b\", 2: \"y\"})\n",
    "sns.despine(left=True)\n",
    "plt.show()"
   ]
  },
  {
   "cell_type": "code",
   "execution_count": null,
   "metadata": {},
   "outputs": [],
   "source": [
    "yy='Subject_Hotness_Score'\n",
    "hues='Email_Source_Type'\n",
    "xx='Email_Status'\n",
    "sns.violinplot(x=xx, y=yy, hue=hues, data=train_data, split=True,\n",
    "               inner=\"quart\", palette={1: \"b\", 2: \"y\"})\n",
    "sns.despine(left=True)\n",
    "plt.show()"
   ]
  },
  {
   "cell_type": "code",
   "execution_count": null,
   "metadata": {},
   "outputs": [],
   "source": [
    "# yy='Subject_Hotness_Score'\n",
    "yy='Total_Past_Communications'\n",
    "hues='Email_Type'\n",
    "xx='Email_Status'\n",
    "sns.violinplot(x=xx, y=yy, hue=hues, data=train_data, split=True,\n",
    "               inner=\"quart\", palette={1: \"b\", 2: \"y\"})\n",
    "sns.despine(left=True)\n",
    "plt.show()"
   ]
  },
  {
   "cell_type": "code",
   "execution_count": null,
   "metadata": {},
   "outputs": [],
   "source": [
    "# yy='Subject_Hotness_Score'\n",
    "# yy='Total_Past_Communications'\n",
    "yy='Word_Count'\n",
    "hues='Email_Type'\n",
    "xx='Email_Status'\n",
    "sns.violinplot(x=xx, y=yy, hue=hues, data=train_data, split=True,\n",
    "               inner=\"quart\", palette={1: \"b\", 2: \"y\"})\n",
    "sns.despine(left=True)\n",
    "plt.show()"
   ]
  },
  {
   "cell_type": "code",
   "execution_count": null,
   "metadata": {},
   "outputs": [],
   "source": [
    "# yy='Subject_Hotness_Score'\n",
    "# yy='Total_Past_Communications'\n",
    "# yy='Word_Count'\n",
    "yy='Total_Images'\n",
    "hues='Email_Type'\n",
    "xx='Email_Status'\n",
    "sns.violinplot(x=xx, y=yy, hue=hues, data=train_data, split=True,\n",
    "               inner=\"quart\", palette={1: \"b\", 2: \"y\"})\n",
    "sns.despine(left=True)\n",
    "plt.show()"
   ]
  },
  {
   "cell_type": "markdown",
   "metadata": {},
   "source": [
    "## Covert Categories to OneHot. "
   ]
  },
  {
   "cell_type": "code",
   "execution_count": 5,
   "metadata": {
    "collapsed": true
   },
   "outputs": [],
   "source": [
    "def make_dummies(df, variables):\n",
    "    for variable in variables:\n",
    "        dummies = pd.get_dummies(df[variable], prefix = variable)\n",
    "        df = pd.concat([df, dummies], axis = 1)\n",
    "        df = df.drop(variable, axis = 1)\n",
    "    return df"
   ]
  },
  {
   "cell_type": "code",
   "execution_count": 6,
   "metadata": {},
   "outputs": [],
   "source": [
    "train_data = make_dummies(train_data, categories)"
   ]
  },
  {
   "cell_type": "markdown",
   "metadata": {},
   "source": [
    "## Missing Value"
   ]
  },
  {
   "cell_type": "code",
   "execution_count": 7,
   "metadata": {},
   "outputs": [],
   "source": [
    "numeric =['Subject_Hotness_Score', 'Total_Past_Communications', 'Word_Count', 'Total_Links','Total_Images']\n",
    "def fill_na_with(df, numeric_Var_list, value = 0):\n",
    "    for x in numeric_Var_list:\n",
    "        print(x,df[x].isnull().sum())\n",
    "        df[x].fillna(value, inplace=True)\n",
    "    return df"
   ]
  },
  {
   "cell_type": "code",
   "execution_count": 8,
   "metadata": {},
   "outputs": [
    {
     "name": "stdout",
     "output_type": "stream",
     "text": [
      "Subject_Hotness_Score 0\n",
      "Total_Past_Communications 6825\n",
      "Word_Count 0\n",
      "Total_Links 2201\n",
      "Total_Images 1677\n"
     ]
    }
   ],
   "source": [
    "train_data = fill_na_with(train_data, numeric)"
   ]
  },
  {
   "cell_type": "markdown",
   "metadata": {},
   "source": [
    "## Generate X and y"
   ]
  },
  {
   "cell_type": "code",
   "execution_count": 19,
   "metadata": {},
   "outputs": [],
   "source": [
    "from sklearn.ensemble import GradientBoostingClassifier\n",
    "from sklearn.metrics import roc_curve, auc\n",
    "from sklearn.model_selection import train_test_split\n",
    "from sklearn.preprocessing import label_binarize\n",
    "from sklearn.multiclass import OneVsRestClassifier\n",
    "from scipy import interp\n",
    "from itertools import cycle"
   ]
  },
  {
   "cell_type": "code",
   "execution_count": 10,
   "metadata": {},
   "outputs": [],
   "source": [
    "X_final = train_data.drop(\"Email_Status\", axis=1).iloc[:,1:]\n",
    "y_target = pd.Series(train_data[\"Email_Status\"])\n",
    "\n",
    "# Binarize the output\n",
    "y = label_binarize(y_target, classes=[0, 1, 2])\n",
    "n_classes = y.shape[1]"
   ]
  },
  {
   "cell_type": "code",
   "execution_count": 11,
   "metadata": {},
   "outputs": [],
   "source": [
    "# Add noisy features to make the problem harder\n",
    "random_state = np.random.RandomState(0)\n",
    "#n_samples, n_features = X_final.shape\n",
    "#X = np.c_[X_final, random_state.randn(n_samples, 200 * n_features)]\n",
    "\n",
    "# shuffle and split training and test sets\n",
    "X_train, X_test, y_train, y_test = train_test_split(X_final, y, test_size=.5, random_state=0)"
   ]
  },
  {
   "cell_type": "code",
   "execution_count": 13,
   "metadata": {},
   "outputs": [],
   "source": [
    "# Learn to predict each class against the other\n",
    "classifier = OneVsRestClassifier(GradientBoostingClassifier(max_features=10, n_estimators=500, \n",
    "                                 learning_rate=0.05, random_state=random_state))"
   ]
  },
  {
   "cell_type": "code",
   "execution_count": 14,
   "metadata": {},
   "outputs": [
    {
     "data": {
      "text/plain": [
       "OneVsRestClassifier(estimator=GradientBoostingClassifier(criterion='friedman_mse', init=None,\n",
       "              learning_rate=0.05, loss='deviance', max_depth=3,\n",
       "              max_features=10, max_leaf_nodes=None,\n",
       "              min_impurity_decrease=0.0, min_impurity_split=None,\n",
       "              min_samples_leaf=1, min_sample...trand.RandomState object at 0x1a0d883828>,\n",
       "              subsample=1.0, verbose=0, warm_start=False),\n",
       "          n_jobs=1)"
      ]
     },
     "execution_count": 14,
     "metadata": {},
     "output_type": "execute_result"
    }
   ],
   "source": [
    "classifier.fit(X_train, y_train)"
   ]
  },
  {
   "cell_type": "code",
   "execution_count": 15,
   "metadata": {
    "collapsed": true
   },
   "outputs": [],
   "source": [
    "y_score = classifier.decision_function(X_test)"
   ]
  },
  {
   "cell_type": "code",
   "execution_count": 16,
   "metadata": {
    "collapsed": true
   },
   "outputs": [],
   "source": [
    "# Compute ROC curve and ROC area for each class\n",
    "fpr = dict()\n",
    "tpr = dict()\n",
    "roc_auc = dict()\n",
    "for i in range(n_classes):\n",
    "    fpr[i], tpr[i], _ = roc_curve(y_test[:, i], y_score[:, i])\n",
    "    roc_auc[i] = auc(fpr[i], tpr[i])\n",
    "\n",
    "# Compute micro-average ROC curve and ROC area\n",
    "fpr[\"micro\"], tpr[\"micro\"], _ = roc_curve(y_test.ravel(), y_score.ravel())\n",
    "roc_auc[\"micro\"] = auc(fpr[\"micro\"], tpr[\"micro\"])"
   ]
  },
  {
   "cell_type": "code",
   "execution_count": 26,
   "metadata": {},
   "outputs": [
    {
     "data": {
      "image/png": "[encoded data removed]",
      "text/plain": [
       "<matplotlib.figure.Figure at 0x1a0f024908>"
      ]
     },
     "metadata": {},
     "output_type": "display_data"
    }
   ],
   "source": [
    "# Compute macro-average ROC curve and ROC area\n",
    "lw = 2\n",
    "# First aggregate all false positive rates\n",
    "all_fpr = np.unique(np.concatenate([fpr[i] for i in range(n_classes)]))\n",
    "\n",
    "# Then interpolate all ROC curves at this points\n",
    "mean_tpr = np.zeros_like(all_fpr)\n",
    "for i in range(n_classes):\n",
    "    mean_tpr += interp(all_fpr, fpr[i], tpr[i])\n",
    "\n",
    "# Finally average it and compute AUC\n",
    "mean_tpr /= n_classes\n",
    "\n",
    "fpr[\"macro\"] = all_fpr\n",
    "tpr[\"macro\"] = mean_tpr\n",
    "roc_auc[\"macro\"] = auc(fpr[\"macro\"], tpr[\"macro\"])\n",
    "\n",
    "# Plot all ROC curves\n",
    "plt.figure()\n",
    "#plt.plot(fpr[\"micro\"], tpr[\"micro\"],\n",
    "#         label='micro-average ROC curve (area = {0:0.2f})'\n",
    "#               ''.format(roc_auc[\"micro\"]),\n",
    "#         color='deeppink', linestyle=':', linewidth=4)\n",
    "\n",
    "#plt.plot(fpr[\"macro\"], tpr[\"macro\"],\n",
    "#         label='macro-average ROC curve (area = {0:0.2f})'\n",
    "#               ''.format(roc_auc[\"macro\"]),\n",
    "#         color='navy', linestyle=':', linewidth=4)\n",
    "\n",
    "colors = cycle(['aqua', 'darkorange', 'cornflowerblue'])\n",
    "for i, color in zip(range(n_classes), colors):\n",
    "    plt.plot(fpr[i], tpr[i], color=color, lw=lw,\n",
    "             label='ROC curve of class {0} (area = {1:0.2f})'\n",
    "             ''.format(i, roc_auc[i]))\n",
    "\n",
    "plt.plot([0, 1], [0, 1], 'k--', lw=lw)\n",
    "plt.xlim([0.0, 1.0])\n",
    "plt.ylim([0.0, 1.05])\n",
    "plt.xlabel('False Positive Rate')\n",
    "plt.ylabel('True Positive Rate')\n",
    "plt.title(\"ROC\")\n",
    "plt.legend(loc=\"lower right\")\n",
    "plt.show()"
   ]
  },
  {
   "cell_type": "code",
   "execution_count": null,
   "metadata": {
    "collapsed": true
   },
   "outputs": [],
   "source": []
  }
 ],
 "metadata": {
  "anaconda-cloud": {},
  "kernelspec": {
   "display_name": "Python 3",
   "language": "python",
   "name": "python3"
  },
  "language_info": {
   "codemirror_mode": {
    "name": "ipython",
    "version": 3
   },
   "file_extension": ".py",
   "mimetype": "text/x-python",
   "name": "python",
   "nbconvert_exporter": "python",
   "pygments_lexer": "ipython3",
   "version": "3.6.2"
  }
 },
 "nbformat": 4,
 "nbformat_minor": 1
}
